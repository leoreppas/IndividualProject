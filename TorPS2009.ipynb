{
 "cells": [
  {
   "cell_type": "markdown",
   "metadata": {},
   "source": [
    "# Individual Porject\n",
    "# Formal modelling and statistical analysis of TOR"
   ]
  },
  {
   "cell_type": "markdown",
   "metadata": {},
   "source": [
    "### Author: Leonidas Reppas\n",
    "### Supervisor: Gethin Norman"
   ]
  },
  {
   "cell_type": "markdown",
   "metadata": {},
   "source": [
    "#### Libraries:"
   ]
  },
  {
   "cell_type": "code",
   "execution_count": 18,
   "metadata": {},
   "outputs": [],
   "source": [
    "import random\n",
    "import matplotlib.pyplot as plt\n",
    "import math\n",
    "import numpy as np\n",
    "import datetime"
   ]
  },
  {
   "cell_type": "markdown",
   "metadata": {},
   "source": [
    "#### Relay statistics for the TOR network for 2009 (gathered from tor metrics):\n",
    "* Roughly 1500 relays\n",
    "* 625 exit relays\n",
    "* less than 500,000 users"
   ]
  },
  {
   "cell_type": "code",
   "execution_count": 2,
   "metadata": {},
   "outputs": [
    {
     "name": "stdout",
     "output_type": "stream",
     "text": [
      "\n",
      "        Number of non-exit nodes: 875,\n",
      "        Number of exit nodes: 625,\n",
      "\n",
      "        Number of total nodes in the network: 1500\n",
      "        \n"
     ]
    }
   ],
   "source": [
    "# Network setup / Relay creation\n",
    "\n",
    "total_nodes = 0\n",
    "non_exit_nodes = 0\n",
    "exit_nodes = 0\n",
    "\n",
    "class Relays():\n",
    "    '''\n",
    "    This class deals with the creation of relay types\n",
    "    '''\n",
    "    \n",
    "    def create_non_exit_nodes(self, number):\n",
    "        global non_exit_nodes\n",
    "        non_exit_nodes += number\n",
    "        \n",
    "    def create_exit_nodes(self, number):\n",
    "        global exit_nodes\n",
    "        exit_nodes += number\n",
    "        \n",
    "    def calculate_total_nodes(self):\n",
    "        global non_exit_nodes, exit_nodes, total_nodes\n",
    "        total_nodes = exit_nodes + non_exit_nodes\n",
    "        \n",
    "    def print_nodes(self):\n",
    "        global non_exit_nodes, exit_nodes, total_nodes\n",
    "        print(\"\"\"\n",
    "        Number of non-exit nodes: {},\n",
    "        Number of exit nodes: {},\\n\n",
    "        Number of total nodes in the network: {}\n",
    "        \"\"\".format(non_exit_nodes, exit_nodes, total_nodes))\n",
    "        \n",
    "# Testing\n",
    "relay = Relays()\n",
    "relay.create_non_exit_nodes(875)\n",
    "relay.create_exit_nodes(625)\n",
    "relay.calculate_total_nodes()\n",
    "relay.print_nodes()"
   ]
  },
  {
   "cell_type": "markdown",
   "metadata": {},
   "source": [
    "#### Path selection algorithm implemented:\n",
    "* Uniformly random, with no use of guard nodes. \n",
    "This is how Tor worked before 2004. The random choice lead to terrible bandwidth bottlenecks. Without the use of guard nodes,\n",
    "every circuit had a probability to be compromised of (M/N)^2, where M is the amount of attacker controlled network resource\n",
    "and N is the total network resource."
   ]
  },
  {
   "cell_type": "code",
   "execution_count": 22,
   "metadata": {},
   "outputs": [],
   "source": [
    "# Path Selection Algorithm\n",
    "class TorPath():\n",
    "    '''\n",
    "    This class deals with the probabilistic path selection \n",
    "    algorithm for the different user models previously defined\n",
    "    '''\n",
    "    \n",
    "    def select_path_typical(self):\n",
    "        # first the exit node is selected\n",
    "        # 91.5% of the exit flagged nodes\n",
    "        # accept the ports of a typical user\n",
    "        global exit_nodes, non_exit_nodes\n",
    "        available_exit_nodes = exit_nodes * 0.92\n",
    "        \n",
    "    \n",
    "        exit_choice = random.randrange(non_exit_nodes, non_exit_nodes + available_exit_nodes)\n",
    "        middle_choice = random.randrange(1, non_exit_nodes)\n",
    "        entry_choice = random.randrange(1, non_exit_nodes)\n",
    "            \n",
    "        # make sure no node is selected twice\n",
    "        while (entry_choice == middle_choice):\n",
    "            entry_choice = random.randrange(1, non_exit_nodes)\n",
    "            \n",
    "        return (entry_choice, middle_choice, exit_choice)\n",
    "            \n",
    "    def select_path_irc(self):\n",
    "        global exit_nodes, non_exit_nodes\n",
    "        available_exit_nodes = exit_nodes * 0.8\n",
    "        \n",
    "        exit_choice = random.randrange(non_exit_nodes, non_exit_nodes + available_exit_nodes)\n",
    "        middle_choice = random.randrange(1, non_exit_nodes)\n",
    "        entry_choice = random.randrange(1, non_exit_nodes)\n",
    "            \n",
    "        while (entry_choice == middle_choice):\n",
    "            entry_choice = random.randrange(1, non_exit_nodes)\n",
    "            \n",
    "        return (entry_choice, middle_choice, exit_choice)\n",
    "            \n",
    "    def select_path_bittorrent(self):\n",
    "        global exit_nodes, non_exit_nodes\n",
    "        available_exit_nodes = exit_nodes * 0.2\n",
    "        \n",
    "        exit_choice = random.randrange(non_exit_nodes, non_exit_nodes + available_exit_nodes)\n",
    "        middle_choice = random.randrange(1, non_exit_nodes)\n",
    "        entry_choice = random.randrange(1, non_exit_nodes)\n",
    "            \n",
    "        while (entry_choice == middle_choice):\n",
    "            entry_choice = random.randrange(1, non_exit_nodes)\n",
    "            \n",
    "        return (entry_choice, middle_choice, exit_choice)\n",
    "    \n",
    "    def attack_path(self, entry_choice, middle_choice, exit_choice):\n",
    "        partial_compr = False\n",
    "        complete_compr = False\n",
    "    \n",
    "        if entry_choice == 1 or exit_choice == 1:\n",
    "            partial_compr = True\n",
    "        \n",
    "        if entry_choice == 1 and exit_choice == 1:\n",
    "            complete_compr = True\n",
    "        \n",
    "        return (partial_compr, complete_compr)\n",
    "        \n",
    "        \n",
    "torpath = TorPath()"
   ]
  },
  {
   "cell_type": "code",
   "execution_count": 33,
   "metadata": {},
   "outputs": [],
   "source": [
    "# Experiements - 6 month period simulations\n",
    "\n",
    "typ_partial1 = 0\n",
    "typ_compl1 = 0\n",
    "for i in range(68432):\n",
    "    entry_choice, middle_choice, exit_choice = torpath.select_path_typical()\n",
    "    partial, compl = torpath.attack_path(entry_choice, middle_choice, exit_choice)\n",
    "    if partial: typ_partial1 += 1\n",
    "    if compl: typ_compl1 += 1\n",
    "    \n",
    "irc_partial1 = 0\n",
    "irc_compl = 0\n",
    "for i in range(3510):\n",
    "    entry_choice, middle_choice, exit_choice = torpath.select_path_irc()\n",
    "    partial, compl = torpath.attack_path(entry_choice, middle_choice, exit_choice)\n",
    "    if partial: irc_partial1 += 1\n",
    "    if compl: irc_compl += 1\n",
    "\n",
    "bit_partial1 = 0\n",
    "bit_compl1 = 0\n",
    "for i in range(175968):\n",
    "    entry_choice, middle_choice, exit_choice = torpath.select_path_bittorrent()\n",
    "    partial, compl = torpath.attack_path(entry_choice, middle_choice, exit_choice)\n",
    "    if partial: bit_partial1 += 1\n",
    "    if compl: bit_compl1 += 1\n"
   ]
  },
  {
   "cell_type": "code",
   "execution_count": 34,
   "metadata": {},
   "outputs": [
    {
     "data": {
      "image/png": "[encoded data removed]",
      "text/plain": [
       "<Figure size 432x288 with 1 Axes>"
      ]
     },
     "metadata": {
      "needs_background": "light"
     },
     "output_type": "display_data"
    }
   ],
   "source": [
    "partial_compr_values = (typ_partial1, irc_partial1, bit_partial1)\n",
    "compl_compr_values = (typ_compl1, irc_compl, bit_compl1)\n",
    "\n",
    "fig, ax = plt.subplots()\n",
    "n_groups = 3\n",
    "bar_width = 0.25\n",
    "index = np.arange(n_groups)\n",
    "opacity = 0.4\n",
    "\n",
    "rects1 = ax.bar(index, partial_compr_values, bar_width,\n",
    "                alpha=opacity, color='b',\n",
    "                label='Partial compromises')\n",
    "\n",
    "rects2 = ax.bar(index + bar_width, compl_compr_values, bar_width,\n",
    "                alpha=opacity, color='g',\n",
    "                label='Complete compromises')\n",
    "\n",
    "\n",
    "ax.set_ylabel('Compromises')\n",
    "ax.set_title('Compromises over a simulated 6 month period')\n",
    "ax.set_xticks(index + bar_width / 2)\n",
    "ax.set_xticklabels(('Typical', 'IRC', 'BitTorrent'))\n",
    "ax.legend()\n",
    "\n",
    "fig.tight_layout()\n",
    "plt.show()"
   ]
  },
  {
   "cell_type": "code",
   "execution_count": 32,
   "metadata": {},
   "outputs": [],
   "source": [
    "# 12 month period simulations\n",
    "\n",
    "typ_partial2 = 0\n",
    "typ_compl2 = 0\n",
    "for i in range(136864):\n",
    "    entry_choice, middle_choice, exit_choice = torpath.select_path_typical()\n",
    "    partial, compl = torpath.attack_path(entry_choice, middle_choice, exit_choice)\n",
    "    if partial: typ_partial2 += 1\n",
    "    if compl: typ_compl2 += 1\n",
    "    \n",
    "irc_partial2 = 0\n",
    "irc_compl2 = 0\n",
    "for i in range(7020):\n",
    "    entry_choice, middle_choice, exit_choice = torpath.select_path_irc()\n",
    "    partial, compl = torpath.attack_path(entry_choice, middle_choice, exit_choice)\n",
    "    if partial: irc_partial2 += 1\n",
    "    if compl: irc_comp2 += 1\n",
    "    \n",
    "bit_partial2 = 0\n",
    "bit_compl2 = 0\n",
    "for i in range(351936):\n",
    "    entry_choice, middle_choice, exit_choice = torpath.select_path_bittorrent()\n",
    "    partial, compl = torpath.attack_path(entry_choice, middle_choice, exit_choice)\n",
    "    if partial: bit_partial2 += 1\n",
    "    if compl: bit_compl2 += 1"
   ]
  },
  {
   "cell_type": "code",
   "execution_count": 35,
   "metadata": {},
   "outputs": [
    {
     "data": {
      "image/png": "[encoded data removed]",
      "text/plain": [
       "<Figure size 432x288 with 1 Axes>"
      ]
     },
     "metadata": {
      "needs_background": "light"
     },
     "output_type": "display_data"
    }
   ],
   "source": [
    "partial_compr_values = (typ_partial2, irc_partial2, bit_partial2)\n",
    "compl_compr_values = (typ_compl2, irc_compl2, bit_compl2)\n",
    "\n",
    "fig, ax = plt.subplots()\n",
    "n_groups = 3\n",
    "bar_width = 0.25\n",
    "index = np.arange(n_groups)\n",
    "opacity = 0.4\n",
    "\n",
    "rects1 = ax.bar(index, partial_compr_values, bar_width,\n",
    "                alpha=opacity, color='b',\n",
    "                label='Partial compromises')\n",
    "\n",
    "rects2 = ax.bar(index + bar_width, compl_compr_values, bar_width,\n",
    "                alpha=opacity, color='g',\n",
    "                label='Complete compromises')\n",
    "\n",
    "\n",
    "ax.set_ylabel('Compromises')\n",
    "ax.set_title('Compromises over a simulated 12 month period')\n",
    "ax.set_xticks(index + bar_width / 2)\n",
    "ax.set_xticklabels(('Typical', 'IRC', 'BitTorrent'))\n",
    "ax.legend()\n",
    "\n",
    "fig.tight_layout()\n",
    "plt.show()"
   ]
  },
  {
   "cell_type": "code",
   "execution_count": 31,
   "metadata": {},
   "outputs": [],
   "source": [
    "# 24 month period simulations\n",
    "\n",
    "typ_partial3 = 0\n",
    "typ_compl3 = 0\n",
    "for i in range(273728):\n",
    "    entry_choice, middle_choice, exit_choice = torpath.select_path_typical()\n",
    "    partial, compl = torpath.attack_path(entry_choice, middle_choice, exit_choice)\n",
    "    if partial: typ_partial3 += 1\n",
    "    if compl: typ_compl3 += 1\n",
    "    \n",
    "irc_partial3 = 0\n",
    "irc_compl3 = 0\n",
    "for i in range(14040):\n",
    "    entry_choice, middle_choice, exit_choice = torpath.select_path_irc()\n",
    "    partial, compl = torpath.attack_path(entry_choice, middle_choice, exit_choice)\n",
    "    if partial: irc_partial3 += 1\n",
    "    if compl: irc_comp3 += 1\n",
    "    \n",
    "bit_partial3 = 0\n",
    "bit_compl3 = 0\n",
    "for i in range(703872):\n",
    "    entry_choice, middle_choice, exit_choice = torpath.select_path_bittorrent()\n",
    "    partial, compl = torpath.attack_path(entry_choice, middle_choice, exit_choice)\n",
    "    if partial: bit_partial3 += 1\n",
    "    if compl: bit_compl3 += 1"
   ]
  },
  {
   "cell_type": "code",
   "execution_count": 36,
   "metadata": {},
   "outputs": [
    {
     "data": {
      "image/png": "[encoded data removed]",
      "text/plain": [
       "<Figure size 432x288 with 1 Axes>"
      ]
     },
     "metadata": {
      "needs_background": "light"
     },
     "output_type": "display_data"
    }
   ],
   "source": [
    "partial_compr_values = (typ_partial3, irc_partial3, bit_partial3)\n",
    "compl_compr_values = (typ_compl3, irc_compl3, bit_compl3)\n",
    "\n",
    "fig, ax = plt.subplots()\n",
    "n_groups = 3\n",
    "bar_width = 0.25\n",
    "index = np.arange(n_groups)\n",
    "opacity = 0.4\n",
    "\n",
    "rects1 = ax.bar(index, partial_compr_values, bar_width,\n",
    "                alpha=opacity, color='b',\n",
    "                label='Partial compromises')\n",
    "\n",
    "rects2 = ax.bar(index + bar_width, compl_compr_values, bar_width,\n",
    "                alpha=opacity, color='g',\n",
    "                label='Complete compromises')\n",
    "\n",
    "\n",
    "ax.set_ylabel('Compromises')\n",
    "ax.set_title('Compromises over a simulated 24 month period')\n",
    "ax.set_xticks(index + bar_width / 2)\n",
    "ax.set_xticklabels(('Typical', 'IRC', 'BitTorrent'))\n",
    "ax.legend()\n",
    "\n",
    "fig.tight_layout()\n",
    "plt.show()"
   ]
  }
 ],
 "metadata": {
  "kernelspec": {
   "display_name": "Python 3",
   "language": "python",
   "name": "python3"
  },
  "language_info": {
   "codemirror_mode": {
    "name": "ipython",
    "version": 3
   },
   "file_extension": ".py",
   "mimetype": "text/x-python",
   "name": "python",
   "nbconvert_exporter": "python",
   "pygments_lexer": "ipython3",
   "version": "3.7.0"
  }
 },
 "nbformat": 4,
 "nbformat_minor": 2
}
