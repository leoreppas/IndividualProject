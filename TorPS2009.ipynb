{
 "cells": [
  {
   "cell_type": "markdown",
   "metadata": {},
   "source": [
    "# Individual Porject\n",
    "# Formal modelling and statistical analysis of TOR"
   ]
  },
  {
   "cell_type": "markdown",
   "metadata": {},
   "source": [
    "### Author: Leonidas Reppas\n",
    "### Supervisor: Gethin Norman"
   ]
  },
  {
   "cell_type": "markdown",
   "metadata": {},
   "source": [
    "#### Libraries:"
   ]
  },
  {
   "cell_type": "code",
   "execution_count": 1,
   "metadata": {},
   "outputs": [],
   "source": [
    "import random"
   ]
  },
  {
   "cell_type": "markdown",
   "metadata": {},
   "source": [
    "#### Relay statistics for the TOR network for 2009 (gathered from tor metrics):\n",
    "* Roughly 1500 relays\n",
    "* 625 exit relays\n",
    "* less than 500,000 users"
   ]
  },
  {
   "cell_type": "code",
   "execution_count": 2,
   "metadata": {},
   "outputs": [
    {
     "name": "stdout",
     "output_type": "stream",
     "text": [
      "\n",
      "        Number of non-exit nodes: 875,\n",
      "        Number of exit nodes: 625,\n",
      "\n",
      "        Number of total nodes in the network: 1500\n",
      "        \n"
     ]
    }
   ],
   "source": [
    "# Network setup / Relay creation\n",
    "\n",
    "total_nodes = 0\n",
    "non_exit_nodes = 0\n",
    "exit_nodes = 0\n",
    "\n",
    "class Relays():\n",
    "    '''\n",
    "    This class deals with the creation of relay types\n",
    "    '''\n",
    "    \n",
    "    def create_non_exit_nodes(self, number):\n",
    "        global non_exit_nodes\n",
    "        non_exit_nodes += number\n",
    "        \n",
    "    def create_exit_nodes(self, number):\n",
    "        global exit_nodes\n",
    "        exit_nodes += number\n",
    "        \n",
    "    def calculate_total_nodes(self):\n",
    "        global non_exit_nodes, exit_nodes, total_nodes\n",
    "        total_nodes = exit_nodes + non_exit_nodes\n",
    "        \n",
    "    def print_nodes(self):\n",
    "        global non_exit_nodes, exit_nodes, total_nodes\n",
    "        print(\"\"\"\n",
    "        Number of non-exit nodes: {},\n",
    "        Number of exit nodes: {},\\n\n",
    "        Number of total nodes in the network: {}\n",
    "        \"\"\".format(non_exit_nodes, exit_nodes, total_nodes))\n",
    "        \n",
    "# Testing\n",
    "relay = Relays()\n",
    "relay.create_non_exit_nodes(875)\n",
    "relay.create_exit_nodes(625)\n",
    "relay.calculate_total_nodes()\n",
    "relay.print_nodes()"
   ]
  },
  {
   "cell_type": "markdown",
   "metadata": {},
   "source": [
    "#### Path selection algorithm implemented:\n",
    "* Uniformly random, with no use of guard nodes. \n",
    "This is how Tor worked before 2004. The random choice lead to terrible bandwidth bottlenecks. Without the use of guard nodes,\n",
    "every circuit had a probability to be compromised of (M/N)^2, where M is the amount of attacker controlled network resource\n",
    "and N is the total network resource."
   ]
  },
  {
   "cell_type": "code",
   "execution_count": 39,
   "metadata": {},
   "outputs": [
    {
     "name": "stdout",
     "output_type": "stream",
     "text": [
      "Typical User Model\n",
      "\n",
      "            PATH #1\n",
      "            As an entry node we selected node #279,\n",
      "            As a middle node we selected node #194,\n",
      "            As an exit node we selected node #1063\n",
      "\n",
      "            \n",
      "IRC User Model\n",
      "\n",
      "            PATH #1\n",
      "            As an entry node we selected node #729,\n",
      "            As a middle node we selected node #396,\n",
      "            As an exit node we selected node #1293\n",
      "\n",
      "            \n",
      "BitTorrent User Model\n",
      "\n",
      "            PATH #1\n",
      "            As an entry node we selected node #445,\n",
      "            As a middle node we selected node #556,\n",
      "            As an exit node we selected node #904\n",
      "\n",
      "            \n"
     ]
    }
   ],
   "source": [
    "# Path Selection Algorithm\n",
    "class TorPath():\n",
    "    '''\n",
    "    This class deals with the probabilistic path selection \n",
    "    algorithm for the different user models previously defined\n",
    "    '''\n",
    "    \n",
    "    def select_path_typical(self, number):\n",
    "        # first the exit node is selected\n",
    "        # 91.5% of the exit flagged nodes\n",
    "        # accept the ports of a typical user\n",
    "        global exit_nodes, non_exit_nodes\n",
    "        available_exit_nodes = exit_nodes * 0.92\n",
    "        \n",
    "        print(\"Typical User Model\")\n",
    "        for i in range(number):\n",
    "            exit_choice = random.randrange(non_exit_nodes, non_exit_nodes + available_exit_nodes)\n",
    "            middle_choice = random.randrange(1, non_exit_nodes)\n",
    "            entry_choice = random.randrange(1, non_exit_nodes)\n",
    "            \n",
    "            # make sure no node is selected twice\n",
    "            while (entry_choice == middle_choice):\n",
    "                entry_choice = random.randrange(1, non_exit_nodes)\n",
    "            \n",
    "            print(\"\"\"\n",
    "            PATH #{}\n",
    "            As an entry node we selected node #{},\n",
    "            As a middle node we selected node #{},\n",
    "            As an exit node we selected node #{}\\n\n",
    "            \"\"\".format(i+1, entry_choice, middle_choice, exit_choice))\n",
    "            \n",
    "    def select_path_irc(self, number):\n",
    "        global exit_nodes, non_exit_nodes\n",
    "        available_exit_nodes = exit_nodes * 0.8\n",
    "        \n",
    "        print(\"IRC User Model\")\n",
    "        for i in range(number):\n",
    "            exit_choice = random.randrange(non_exit_nodes, non_exit_nodes + available_exit_nodes)\n",
    "            middle_choice = random.randrange(1, non_exit_nodes)\n",
    "            entry_choice = random.randrange(1, non_exit_nodes)\n",
    "            \n",
    "            while (entry_choice == middle_choice):\n",
    "                entry_choice = random.randrange(1, non_exit_nodes)\n",
    "            \n",
    "            print(\"\"\"\n",
    "            PATH #{}\n",
    "            As an entry node we selected node #{},\n",
    "            As a middle node we selected node #{},\n",
    "            As an exit node we selected node #{}\\n\n",
    "            \"\"\".format(i+1, entry_choice, middle_choice, exit_choice))\n",
    "            \n",
    "    def select_path_bittorrent(self, number):\n",
    "        global exit_nodes, non_exit_nodes\n",
    "        available_exit_nodes = exit_nodes * 0.2\n",
    "        \n",
    "        print(\"BitTorrent User Model\")\n",
    "        for i in range(number):\n",
    "            exit_choice = random.randrange(non_exit_nodes, non_exit_nodes + available_exit_nodes)\n",
    "            middle_choice = random.randrange(1, non_exit_nodes)\n",
    "            entry_choice = random.randrange(1, non_exit_nodes)\n",
    "            \n",
    "            while (entry_choice == middle_choice):\n",
    "                entry_choice = random.randrange(1, non_exit_nodes)\n",
    "            \n",
    "            print(\"\"\"\n",
    "            PATH #{}\n",
    "            As an entry node we selected node #{},\n",
    "            As a middle node we selected node #{},\n",
    "            As an exit node we selected node #{}\\n\n",
    "            \"\"\".format(i+1, entry_choice, middle_choice, exit_choice))\n",
    "        \n",
    "        \n",
    "torpath = TorPath()\n",
    "torpath.select_path_typical(1)\n",
    "torpath.select_path_irc(1)\n",
    "torpath.select_path_bittorrent(1)"
   ]
  }
 ],
 "metadata": {
  "kernelspec": {
   "display_name": "Python 3",
   "language": "python",
   "name": "python3"
  },
  "language_info": {
   "codemirror_mode": {
    "name": "ipython",
    "version": 3
   },
   "file_extension": ".py",
   "mimetype": "text/x-python",
   "name": "python",
   "nbconvert_exporter": "python",
   "pygments_lexer": "ipython3",
   "version": "3.7.0"
  }
 },
 "nbformat": 4,
 "nbformat_minor": 2
}
