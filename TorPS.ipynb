{
 "cells": [
  {
   "cell_type": "code",
   "execution_count": 3,
   "metadata": {},
   "outputs": [],
   "source": [
    "# Individual Porject\n",
    "# Formal modelling and statistical analysis of TOR\n",
    "# Author: Leonidas Reppas"
   ]
  },
  {
   "cell_type": "code",
   "execution_count": null,
   "metadata": {},
   "outputs": [],
   "source": [
    "# Feature 1: Relays\n",
    "class Relays():\n",
    "    \n",
    "    def create_relays(self, number):\n",
    "        relays = []\n",
    "        for i in range(number):\n",
    "            \n",
    "        return relays\n",
    "                \n",
    "    def print_relays(self, relays):\n",
    "        for i in range(len(relays)):\n",
    "            print(\"Relay #{}: {}\".format(i, relays[i]))"
   ]
  },
  {
   "cell_type": "code",
   "execution_count": null,
   "metadata": {},
   "outputs": [],
   "source": [
    "# Feature 2: Relay Selection Algorithm \n",
    "class TorNetwork():\n",
    "    \n",
    "    def select_entry_guards_random(self, relays):\n",
    "        entry_random = []\n",
    "        return entry_random\n",
    "    \n",
    "    def select_middle_relays_random(self, relays):\n",
    "        middle_random = []\n",
    "        return middle_random\n",
    "    \n",
    "    def select_exit_nodes_random(self, relays):\n",
    "        exit_random = []\n",
    "        return exit_random\n",
    "    \n",
    "    def select_entry_guards_probabilistic(self, relays):\n",
    "        entry_prob = []\n",
    "        return entry_prob\n",
    "    \n",
    "    def select_middle_relays_probabilistic(self, relays):\n",
    "        middle_prob = []\n",
    "        return middle_prob\n",
    "    \n",
    "    def select_exit_nodes_probabilistic(self, relays):\n",
    "        exit_prob = []\n",
    "        return exit_prob"
   ]
  }
 ],
 "metadata": {
  "kernelspec": {
   "display_name": "Python 3",
   "language": "python",
   "name": "python3"
  },
  "language_info": {
   "codemirror_mode": {
    "name": "ipython",
    "version": 3
   },
   "file_extension": ".py",
   "mimetype": "text/x-python",
   "name": "python",
   "nbconvert_exporter": "python",
   "pygments_lexer": "ipython3",
   "version": "3.7.0"
  }
 },
 "nbformat": 4,
 "nbformat_minor": 2
}
