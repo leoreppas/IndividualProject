{
 "cells": [
  {
   "cell_type": "markdown",
   "metadata": {},
   "source": [
    "# Individual Project\n",
    "# Formal modelling and statistical analysis of TOR"
   ]
  },
  {
   "cell_type": "markdown",
   "metadata": {},
   "source": [
    "### Author: Leonidas Reppas\n",
    "### Supervisor: Gethin Norman"
   ]
  },
  {
   "cell_type": "markdown",
   "metadata": {},
   "source": [
    "#### Libraries:"
   ]
  },
  {
   "cell_type": "code",
   "execution_count": 2,
   "metadata": {},
   "outputs": [],
   "source": [
    "import random"
   ]
  },
  {
   "cell_type": "markdown",
   "metadata": {},
   "source": [
    "#### Relay statistics from the TOR network for 2019 (gathered from Tor metrics):\n",
    "* Roughly 6000 relays\n",
    "* 2500 guard-flagged\n",
    "* 1000 exit-flagged\n",
    "* Users: 2,000,000"
   ]
  },
  {
   "cell_type": "code",
   "execution_count": 4,
   "metadata": {},
   "outputs": [
    {
     "name": "stdout",
     "output_type": "stream",
     "text": [
      "\n",
      "        Number of guard nodes: 2500\n",
      "        Number of exit nodes: 1000\n",
      "        Number of guard and exit nodes: 250\n",
      "        Number of middle nodes: 2750\n",
      "\n",
      "        Number of total nodes in the network: 6000\n",
      "        \n"
     ]
    }
   ],
   "source": [
    "# Network setup / Relay creation\n",
    "\n",
    "# Have different global variables for differently flagged nodes\n",
    "total_nodes = 0\n",
    "guard_nodes = 0\n",
    "exit_nodes = 0\n",
    "guard_exit_nodes = 0\n",
    "middle_nodes = 0\n",
    "\n",
    "class Relays():\n",
    "    '''\n",
    "    This class deals with the creation of the relay types\n",
    "    '''\n",
    "    \n",
    "    def create_guard_nodes(self, number):\n",
    "        global guard_nodes, total_nodes\n",
    "        guard_nodes += number\n",
    "        \n",
    "    def create_exit_nodes(self, number):\n",
    "        global exit_nodes, total_nodes\n",
    "        exit_nodes += number\n",
    "    \n",
    "    def create_guard_exit_nodes(self, number):\n",
    "        global guard_exit_nodes, total_nodes\n",
    "        guard_exit_nodes += number\n",
    "    \n",
    "    def create_middle_nodes(self, number):\n",
    "        global middle_nodes\n",
    "        middle_nodes += number\n",
    "        \n",
    "    def calculate_total_nodes(self):\n",
    "        global guard_nodes, exit_nodes, guard_exit_nodes, middle_nodes, total_nodes\n",
    "        total_nodes = (guard_nodes + exit_nodes + middle_nodes) - guard_exit_nodes\n",
    "        \n",
    "    def print_nodes(self):\n",
    "        global guard_nodes, exit_nodes, guard_exit_nodes, middle_nodes, total_nodes\n",
    "        \n",
    "        print(\"\"\"\n",
    "        Number of guard nodes: {}\n",
    "        Number of exit nodes: {}\n",
    "        Number of guard and exit nodes: {}\n",
    "        Number of middle nodes: {}\\n\n",
    "        Number of total nodes in the network: {}\n",
    "        \"\"\". format(guard_nodes, exit_nodes, guard_exit_nodes, middle_nodes, total_nodes))\n",
    "            \n",
    "# Testing\n",
    "relay = Relays()\n",
    "relay.create_guard_nodes(2500)\n",
    "relay.create_exit_nodes(1000)\n",
    "relay.create_guard_exit_nodes(250)\n",
    "relay.create_middle_nodes(2750)\n",
    "relay.calculate_total_nodes()\n",
    "relay.print_nodes()"
   ]
  },
  {
   "cell_type": "markdown",
   "metadata": {},
   "source": [
    "#### Path selection algorithm implemented:\n",
    " * Node selection based on weights, calculated by node bandwidth.\n",
    "This was an improvement to the uniformly random path selection. Now a node with 10x higher bandwidth than another node,\n",
    "has 10x as many circuits and probabilistically 10x as much of the traffic. "
   ]
  },
  {
   "cell_type": "markdown",
   "metadata": {},
   "source": [
    "#### Bandwidth weight computation according to the network scarcity conditions:\n",
    "* G: total bandwidth for guard-flagged nodes = 230Gbit/s\n",
    "* M: total bandwidth for non-flagged nodes = 50Gbit/s\n",
    "* E: total bandwidth for exit-flagged nodes = 275Gbit/s\n",
    "* D: total bandwidth for guard&exit-flagged nodes = 125Gbit/s\n",
    "* T = G + M + E + D = 680Gbit/s\n",
    "\n",
    "Network scarcity condition: E >= T/3 && G >= T/3 (275>227 && 230>227)\n",
    "So weight solution is(weight_scale=10,000):\n",
    "* Wgd = weight_scale/3\n",
    "* Wed = weight_scale/3\n",
    "* Wmd = weight_scale/3\n",
    "* Wee = (weight_scale*(E+G+M))/(3*E)\n",
    "* Wme = weight_scale - Wee\n",
    "* Wmg = (weight_scale*(2*G-E-M))/(3*G)\n",
    "* Wgg = weight_scale - Wmg\n",
    "* Wgm = Wgg\n",
    "* Wmm = Wbm\n",
    "* Weg = Wed\n",
    "* Wem = Wee"
   ]
  },
  {
   "cell_type": "code",
   "execution_count": 1,
   "metadata": {},
   "outputs": [],
   "source": [
    "# Defining bandwidth values as global variables (in Gbit/s)\n",
    "G = 230\n",
    "M = 50\n",
    "E = 275\n",
    "D = 125\n",
    "T = G + M + E + D"
   ]
  },
  {
   "cell_type": "code",
   "execution_count": 9,
   "metadata": {},
   "outputs": [
    {
     "name": "stdout",
     "output_type": "stream",
     "text": [
      "Path #1: entry: high, middle: high, exit: med\n",
      "Path #2: entry: high, middle: med, exit: high\n",
      "Path #3: entry: low, middle: med, exit: med\n",
      "Path #4: entry: med, middle: med, exit: med\n",
      "Path #5: entry: high, middle: high, exit: med\n",
      "Path #6: entry: high, middle: high, exit: high\n",
      "Path #7: entry: high, middle: low, exit: high\n",
      "Path #8: entry: low, middle: high, exit: med\n",
      "Path #9: entry: low, middle: high, exit: high\n",
      "Path #10: entry: high, middle: high, exit: high\n"
     ]
    }
   ],
   "source": [
    "# Path Selection Algorithm \n",
    "class TorPath():\n",
    "    '''\n",
    "    This class deals with the bandwidth weight path \n",
    "    selection algorithm for the different user models defined\n",
    "    '''\n",
    "    weight_scale = 10000\n",
    "    w_gd, w_ed, w_md = 0\n",
    "    w_ee, w_me = 0\n",
    "    w_mg, w_gg, w_eg = 0\n",
    "    w_gm, w_mm, w_em = 0\n",
    "    \n",
    "    def calculate_bandwidth_weights(self):\n",
    "        w_gd = weight_scale / 3\n",
    "        w_ed = weight_scale / 3\n",
    "        w_md = weight_scale / 3\n",
    "        w_ee = (weight_scale * (E + G + M)) / (3 * E)\n",
    "        w_me = weight_scale - w_ee\n",
    "        w_mg = (weight_scale * (2 * G - E - M)) / (3 * G)\n",
    "        w_gg = weight_scale - w_mg\n",
    "        w_gm = w_gg\n",
    "        w_mm = w_bm //TODO\n",
    "        w_eg = w_ed\n",
    "        w_em = w_ee\n",
    "    \n",
    "    \n",
    "    def create_streams_typical(self, number):\n",
    "        # select an exit node\n",
    "        # select a middle node\n",
    "        # select three guard nodes\n",
    "        \n",
    "    def create_streams_irc(self, number):\n",
    "        \n",
    "    def create_streams_bittorrent(self, number):\n",
    "                    \n",
    "            \n",
    "            \n",
    "# Testing - 1 week simulation per user model\n",
    "torpath = TorPath()\n",
    "torpath.create_streams_typical(1)"
   ]
  }
 ],
 "metadata": {
  "kernelspec": {
   "display_name": "Python 3",
   "language": "python",
   "name": "python3"
  },
  "language_info": {
   "codemirror_mode": {
    "name": "ipython",
    "version": 3
   },
   "file_extension": ".py",
   "mimetype": "text/x-python",
   "name": "python",
   "nbconvert_exporter": "python",
   "pygments_lexer": "ipython3",
   "version": "3.7.0"
  }
 },
 "nbformat": 4,
 "nbformat_minor": 2
}
